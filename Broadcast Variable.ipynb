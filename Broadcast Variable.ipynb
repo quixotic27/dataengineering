{
 "cells": [
  {
   "cell_type": "code",
   "execution_count": 0,
   "metadata": {
    "application/vnd.databricks.v1+cell": {
     "cellMetadata": {
      "byteLimit": 2048000,
      "rowLimit": 10000
     },
     "inputWidgets": {},
     "nuid": "6f1d374a-2fd3-486f-97c0-3773fbeb68ab",
     "showTitle": false,
     "tableResultSettingsMap": {},
     "title": ""
    }
   },
   "outputs": [],
   "source": [
    "rdd = spark.sparkContext.parallelize(\n",
    "    [\"India\", \"USA\", \"Canada\", \"Australia\", \"Germany\", \"Spain\"]\n",
    ")\n",
    "\n",
    "\n",
    "data_dictionary = {\n",
    "    \"India\": \"Delhi\",\n",
    "    \"USA\": \"Washington\",\n",
    "    \"Canada\": \"Ottawa\",\n",
    "    \"Australia\": \"Canberra\",\n",
    "    \"Germany\": \"Berlin\",\n",
    "}\n",
    "\n",
    "broadcast_variable = spark.sparkContext.broadcast(data_dictionary)\n",
    "\n",
    "\n",
    "def get_capital(country):\n",
    "    return broadcast_variable.value.get(country, \"NA\")\n",
    "\n",
    "\n",
    "rdd_transformed = rdd.map(lambda x: (x, (get_capital(x))))\n",
    "rdd_list = rdd_transformed.collect()\n",
    "print(rdd_list)\n",
    "\n",
    "for country, capital in rdd_list:\n",
    "    print(f\"{capital} is the capital of {country}\")"
   ]
  }
 ],
 "metadata": {
  "application/vnd.databricks.v1+notebook": {
   "computePreferences": null,
   "dashboards": [],
   "environmentMetadata": {
    "base_environment": "",
    "environment_version": "2"
   },
   "inputWidgetPreferences": null,
   "language": "python",
   "notebookMetadata": {
    "pythonIndentUnit": 4
   },
   "notebookName": "Broadcast Variable",
   "widgets": {}
  },
  "language_info": {
   "name": "python"
  }
 },
 "nbformat": 4,
 "nbformat_minor": 0
}
